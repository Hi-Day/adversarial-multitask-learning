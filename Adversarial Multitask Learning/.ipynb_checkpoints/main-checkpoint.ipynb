{
 "cells": [
  {
   "cell_type": "code",
   "execution_count": null,
   "id": "e7755efe",
   "metadata": {},
   "outputs": [],
   "source": []
  },
  {
   "cell_type": "code",
   "execution_count": null,
   "id": "0b07c523",
   "metadata": {},
   "outputs": [],
   "source": []
  },
  {
   "cell_type": "code",
   "execution_count": null,
   "id": "0a4decdf",
   "metadata": {},
   "outputs": [],
   "source": []
  },
  {
   "cell_type": "code",
   "execution_count": null,
   "id": "2472a5b8",
   "metadata": {},
   "outputs": [],
   "source": [
    "CFG = {\n",
    "   \"data\": {\n",
    "       \"path\": \"oxford_iiit_pet:3.*.*\",\n",
    "       \"image_size\": 128,\n",
    "       \"load_with_info\": True\n",
    "   },\n",
    "   \"train\": {\n",
    "       \"batch_size\": 64,\n",
    "       \"buffer_size\": 1000,\n",
    "       \"epoches\": 20,\n",
    "       \"val_subsplits\": 5,\n",
    "       \"optimizer\": {\n",
    "           \"type\": \"adam\"\n",
    "       },\n",
    "       \"metrics\": [\"accuracy\"]\n",
    "   },\n",
    "   \"model\": {\n",
    "       \"input\": [128, 128, 3],\n",
    "       \"up_stack\": {\n",
    "           \"layer_1\": 512,\n",
    "           \"layer_2\": 256,\n",
    "           \"layer_3\": 128,\n",
    "           \"layer_4\": 64,\n",
    "           \"kernels\": 3\n",
    "       },\n",
    "       \"output\": 3\n",
    "   }\n",
    "}\n"
   ]
  }
 ],
 "metadata": {
  "kernelspec": {
   "display_name": "Python 3 (ipykernel)",
   "language": "python",
   "name": "python3"
  },
  "language_info": {
   "codemirror_mode": {
    "name": "ipython",
    "version": 3
   },
   "file_extension": ".py",
   "mimetype": "text/x-python",
   "name": "python",
   "nbconvert_exporter": "python",
   "pygments_lexer": "ipython3",
   "version": "3.8.10"
  }
 },
 "nbformat": 4,
 "nbformat_minor": 5
}
